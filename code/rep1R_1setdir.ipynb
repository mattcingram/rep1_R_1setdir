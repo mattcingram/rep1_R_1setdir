{
 "cells": [
  {
   "cell_type": "markdown",
   "metadata": {},
   "source": [
    "# Replication with R from Jupyter\n",
    "### Matthew C. Ingram\n",
    "### University at Albany, SUNY\n",
    "# Replication 1: Costa et al. (Research and Politics, 2020)\n",
    "### __Computing Tools__: R and markdown in Jupyter\n",
    "### __Discipline: political science\n",
    "### __Subject fields__: political behavior, sexism, misconduct, \\#MeToo\n",
    "### __Methods topics__: data management, descriptive statistics, t-tests, OLS, OLS with interactions"
   ]
  },
  {
   "cell_type": "markdown",
   "metadata": {},
   "source": [
    "# Introduction"
   ]
  },
  {
   "cell_type": "markdown",
   "metadata": {},
   "source": [
    "This notebook documents a replication of Costa et al. (2020) in R from within the Jupyter platform. \n",
    "\n",
    "R can run natively in Jupyter using the IRkernel. That is, in contrast to using Stata, where a notebook opens with Python running natively and Stata must be called within each cell using Stata, users can run a notebook like this oen with R running natively. R does not need to be called within each cell.\n",
    "\n",
    "For more information on IRkernel, see: https://github.com/IRkernel/IRkernel\n",
    "\n",
    "I am using JupyterHub and JupyterLab. JupyterHub is a server-based version of Jupyter that allows central installation of software and multiple users. In academic settings, the advantages are:\n",
    "- shared resources to avoid duplication and enhance collaboration\n",
    "- secure sign-on with instiutional IDs and passwords\n",
    "- remote computing\n",
    "- extensions to use JupyterHub as a learning management system, including assigmment management\n",
    "\n",
    "JupyterLab is an interface that mimics features of an integrated development environment (IDE), allowing multiple notebooks to be opened at once, side by side, while at the same time being able to view directory, pull-down menus, etc.\n",
    "\n",
    "For more information on Jupyter, see: http://jupyter.org/\n",
    "\n",
    "For more information on JupyterHub, see: https://github.com/jupyterhub/jupyterhub\n",
    "\n",
    "For more information on JupyterLab, see: https://github.com/jupyterlab/jupyterlab"
   ]
  },
  {
   "cell_type": "markdown",
   "metadata": {},
   "source": [
    "# Setting Up"
   ]
  },
  {
   "cell_type": "markdown",
   "metadata": {},
   "source": [
    "## 1 Set Directory Structure"
   ]
  },
  {
   "cell_type": "markdown",
   "metadata": {},
   "source": [
    "### Check current directory"
   ]
  },
  {
   "cell_type": "code",
   "execution_count": 11,
   "metadata": {},
   "outputs": [
    {
     "data": {
      "text/html": [
       "'/home/jovyan'"
      ],
      "text/latex": [
       "'/home/jovyan'"
      ],
      "text/markdown": [
       "'/home/jovyan'"
      ],
      "text/plain": [
       "[1] \"/home/jovyan\""
      ]
     },
     "metadata": {},
     "output_type": "display_data"
    }
   ],
   "source": [
    "getwd()"
   ]
  },
  {
   "cell_type": "markdown",
   "metadata": {},
   "source": [
    "### Set Working Directory"
   ]
  },
  {
   "cell_type": "code",
   "execution_count": 2,
   "metadata": {},
   "outputs": [],
   "source": [
    "# set working directory; need to move up one level\n",
    "path <- '/home/jovyan'\n",
    "setwd(path)\n",
    "# or: setwd('../') # two points (instead of one point) mean move up one level in directory structure"
   ]
  },
  {
   "cell_type": "markdown",
   "metadata": {},
   "source": [
    "### Check current directory to confirm change"
   ]
  },
  {
   "cell_type": "code",
   "execution_count": 12,
   "metadata": {},
   "outputs": [
    {
     "data": {
      "text/html": [
       "'/home/jovyan'"
      ],
      "text/latex": [
       "'/home/jovyan'"
      ],
      "text/markdown": [
       "'/home/jovyan'"
      ],
      "text/plain": [
       "[1] \"/home/jovyan\""
      ]
     },
     "metadata": {},
     "output_type": "display_data"
    }
   ],
   "source": [
    "getwd()"
   ]
  },
  {
   "cell_type": "markdown",
   "metadata": {},
   "source": [
    "### Create sub-directories"
   ]
  },
  {
   "cell_type": "code",
   "execution_count": 3,
   "metadata": {},
   "outputs": [
    {
     "name": "stderr",
     "output_type": "stream",
     "text": [
      "Warning message in dir.create(\"./data\", showWarnings = TRUE):\n",
      "“'./data' already exists”\n",
      "Warning message in dir.create(\"./data/original\", showWarnings = TRUE):\n",
      "“'./data/original' already exists”\n"
     ]
    }
   ],
   "source": [
    "# set subdirectories\n",
    "# dir.create checks whether subdirectories exist; if missing, creates them\n",
    "dir.create(\"./data\",showWarnings = TRUE) # showWarnings = TRUE reports a warning if subdirectory already exists\n",
    "dir.create(\"./data/original\",showWarnings = TRUE)\n",
    "dir.create(\"./data/working\",showWarnings = TRUE)\n",
    "dir.create(\"./figures\",showWarnings = TRUE)\n",
    "dir.create(\"./tables\",showWarnings = TRUE)"
   ]
  },
  {
   "cell_type": "markdown",
   "metadata": {},
   "source": [
    "### Check contents of working directory"
   ]
  },
  {
   "cell_type": "code",
   "execution_count": 15,
   "metadata": {},
   "outputs": [
    {
     "data": {
      "text/html": [
       "<style>\n",
       ".list-inline {list-style: none; margin:0; padding: 0}\n",
       ".list-inline>li {display: inline-block}\n",
       ".list-inline>li:not(:last-child)::after {content: \"\\00b7\"; padding: 0 .5ex}\n",
       "</style>\n",
       "<ol class=list-inline><li>'jovyan'</li><li>'shiny'</li></ol>\n"
      ],
      "text/latex": [
       "\\begin{enumerate*}\n",
       "\\item 'jovyan'\n",
       "\\item 'shiny'\n",
       "\\end{enumerate*}\n"
      ],
      "text/markdown": [
       "1. 'jovyan'\n",
       "2. 'shiny'\n",
       "\n",
       "\n"
      ],
      "text/plain": [
       "[1] \"jovyan\" \"shiny\" "
      ]
     },
     "metadata": {},
     "output_type": "display_data"
    }
   ],
   "source": [
    "dir()\n",
    "#or list.files()\n",
    "# should now see all subfolder created above"
   ]
  }
 ],
 "metadata": {
  "kernelspec": {
   "display_name": "R",
   "language": "R",
   "name": "ir"
  },
  "language_info": {
   "codemirror_mode": "r",
   "file_extension": ".r",
   "mimetype": "text/x-r-source",
   "name": "R",
   "pygments_lexer": "r",
   "version": "3.6.3"
  }
 },
 "nbformat": 4,
 "nbformat_minor": 2
}
